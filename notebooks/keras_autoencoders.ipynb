{
 "cells": [
  {
   "cell_type": "code",
   "execution_count": 2,
   "metadata": {},
   "outputs": [],
   "source": [
    "import keras\n",
    "import tensorflow as tf"
   ]
  },
  {
   "cell_type": "code",
   "execution_count": 3,
   "metadata": {},
   "outputs": [
    {
     "name": "stdout",
     "output_type": "stream",
     "text": [
      "3.6.6 |Anaconda, Inc.| (default, Jun 28 2018, 11:27:44) [MSC v.1900 64 bit (AMD64)]\n",
      "2.2.2\n",
      "1.10.0\n"
     ]
    }
   ],
   "source": [
    "import sys\n",
    "print(sys.version)\n",
    "print(keras.__version__)\n",
    "print(tf.__version__)"
   ]
  },
  {
   "cell_type": "code",
   "execution_count": 4,
   "metadata": {},
   "outputs": [],
   "source": [
    "import matplotlib.pyplot as plt"
   ]
  },
  {
   "cell_type": "code",
   "execution_count": 5,
   "metadata": {},
   "outputs": [],
   "source": [
    "%matplotlib inline"
   ]
  },
  {
   "cell_type": "markdown",
   "metadata": {},
   "source": [
    "![](https://blog.keras.io/img/ae/autoencoder_schema.jpg)"
   ]
  },
  {
   "cell_type": "markdown",
   "metadata": {},
   "source": [
    "** More on autoencoders in Keras **\n",
    "\n",
    "[Building Autoencoders in Keras](https://blog.keras.io/building-autoencoders-in-keras.html)\n",
    "\n",
    "[Автоэнкодеры в Keras, Части 1-6](https://habrahabr.ru/post/331382/)"
   ]
  },
  {
   "cell_type": "markdown",
   "metadata": {},
   "source": [
    "### MNIST data"
   ]
  },
  {
   "cell_type": "code",
   "execution_count": 6,
   "metadata": {},
   "outputs": [],
   "source": [
    "from keras.datasets import mnist\n",
    "import numpy as np\n",
    "(x_train, _), (x_test, _) = mnist.load_data()"
   ]
  },
  {
   "cell_type": "code",
   "execution_count": 7,
   "metadata": {},
   "outputs": [
    {
     "name": "stdout",
     "output_type": "stream",
     "text": [
      "(60000, 784)\n",
      "(10000, 784)\n"
     ]
    }
   ],
   "source": [
    "x_train = x_train.astype('float32') / 255.\n",
    "x_test = x_test.astype('float32') / 255.\n",
    "x_train = x_train.reshape((len(x_train), np.prod(x_train.shape[1:])))\n",
    "x_test = x_test.reshape((len(x_test), np.prod(x_test.shape[1:])))\n",
    "print(x_train.shape)\n",
    "print(x_test.shape)"
   ]
  },
  {
   "cell_type": "markdown",
   "metadata": {},
   "source": [
    "### FNN autoencoder"
   ]
  },
  {
   "cell_type": "code",
   "execution_count": 9,
   "metadata": {},
   "outputs": [],
   "source": [
    "from keras.layers import Input, Dense\n",
    "from keras.models import Model\n",
    "\n",
    "# this is the size of our encoded representations\n",
    "encoding_dim = 32  # 32 floats -> compression of factor 24.5, assuming the input is 784 floats\n",
    "\n",
    "# this is our input placeholder\n",
    "input_img = Input(shape=(784,))\n",
    "# \"encoded\" is the encoded representation of the input\n",
    "encoded = Dense(encoding_dim, activation='relu')(input_img)\n",
    "# \"decoded\" is the lossy reconstruction of the input\n",
    "decoded = Dense(784, activation='sigmoid')(encoded)\n",
    "\n",
    "# this model maps an input to its reconstruction\n",
    "autoencoder = Model(input_img, decoded)"
   ]
  },
  {
   "cell_type": "code",
   "execution_count": 10,
   "metadata": {},
   "outputs": [],
   "source": [
    "# this model maps an input to its encoded representation\n",
    "encoder = Model(input_img, encoded)"
   ]
  },
  {
   "cell_type": "code",
   "execution_count": 11,
   "metadata": {},
   "outputs": [],
   "source": [
    "# create a placeholder for an encoded (32-dimensional) input\n",
    "encoded_input = Input(shape=(encoding_dim,))\n",
    "# retrieve the last layer of the autoencoder model\n",
    "decoder_layer = autoencoder.layers[-1]\n",
    "# create the decoder model\n",
    "decoder = Model(encoded_input, decoder_layer(encoded_input))"
   ]
  },
  {
   "cell_type": "code",
   "execution_count": 12,
   "metadata": {},
   "outputs": [],
   "source": [
    "autoencoder.compile(optimizer='adadelta', loss='binary_crossentropy')"
   ]
  },
  {
   "cell_type": "code",
   "execution_count": 13,
   "metadata": {},
   "outputs": [
    {
     "name": "stdout",
     "output_type": "stream",
     "text": [
      "_________________________________________________________________\n",
      "Layer (type)                 Output Shape              Param #   \n",
      "=================================================================\n",
      "input_1 (InputLayer)         (None, 784)               0         \n",
      "_________________________________________________________________\n",
      "dense_1 (Dense)              (None, 32)                25120     \n",
      "_________________________________________________________________\n",
      "dense_2 (Dense)              (None, 784)               25872     \n",
      "=================================================================\n",
      "Total params: 50,992\n",
      "Trainable params: 50,992\n",
      "Non-trainable params: 0\n",
      "_________________________________________________________________\n"
     ]
    }
   ],
   "source": [
    "autoencoder.summary()"
   ]
  },
  {
   "cell_type": "code",
   "execution_count": 14,
   "metadata": {},
   "outputs": [
    {
     "name": "stdout",
     "output_type": "stream",
     "text": [
      "Train on 60000 samples, validate on 10000 samples\n",
      "Epoch 1/50\n",
      "60000/60000 [==============================] - 3s 57us/step - loss: 0.3578 - val_loss: 0.2702\n",
      "Epoch 2/50\n",
      "60000/60000 [==============================] - 2s 37us/step - loss: 0.2616 - val_loss: 0.2492\n",
      "Epoch 3/50\n",
      "60000/60000 [==============================] - 2s 36us/step - loss: 0.2382 - val_loss: 0.2256\n",
      "Epoch 4/50\n",
      "60000/60000 [==============================] - 2s 35us/step - loss: 0.2189 - val_loss: 0.2097\n",
      "Epoch 5/50\n",
      "60000/60000 [==============================] - 2s 38us/step - loss: 0.2054 - val_loss: 0.1981\n",
      "Epoch 6/50\n",
      "60000/60000 [==============================] - 2s 34us/step - loss: 0.1948 - val_loss: 0.1887\n",
      "Epoch 7/50\n",
      "60000/60000 [==============================] - 3s 47us/step - loss: 0.1862 - val_loss: 0.1811\n",
      "Epoch 8/50\n",
      "60000/60000 [==============================] - 3s 42us/step - loss: 0.1792 - val_loss: 0.1747\n",
      "Epoch 9/50\n",
      "60000/60000 [==============================] - 2s 34us/step - loss: 0.1733 - val_loss: 0.1694\n",
      "Epoch 10/50\n",
      "60000/60000 [==============================] - 2s 34us/step - loss: 0.1681 - val_loss: 0.1645\n",
      "Epoch 11/50\n",
      "60000/60000 [==============================] - 2s 35us/step - loss: 0.1634 - val_loss: 0.1599\n",
      "Epoch 12/50\n",
      "60000/60000 [==============================] - 2s 34us/step - loss: 0.1591 - val_loss: 0.1559\n",
      "Epoch 13/50\n",
      "60000/60000 [==============================] - 2s 36us/step - loss: 0.1552 - val_loss: 0.1521\n",
      "Epoch 14/50\n",
      "60000/60000 [==============================] - 3s 45us/step - loss: 0.1516 - val_loss: 0.1486\n",
      "Epoch 15/50\n",
      "60000/60000 [==============================] - 2s 36us/step - loss: 0.1484 - val_loss: 0.1456\n",
      "Epoch 16/50\n",
      "60000/60000 [==============================] - 2s 35us/step - loss: 0.1454 - val_loss: 0.1427\n",
      "Epoch 17/50\n",
      "60000/60000 [==============================] - 2s 37us/step - loss: 0.1426 - val_loss: 0.1399\n",
      "Epoch 18/50\n",
      "60000/60000 [==============================] - 2s 36us/step - loss: 0.1400 - val_loss: 0.1375\n",
      "Epoch 19/50\n",
      "60000/60000 [==============================] - 2s 35us/step - loss: 0.1376 - val_loss: 0.1350\n",
      "Epoch 20/50\n",
      "60000/60000 [==============================] - 2s 35us/step - loss: 0.1352 - val_loss: 0.1327\n",
      "Epoch 21/50\n",
      "60000/60000 [==============================] - 2s 34us/step - loss: 0.1330 - val_loss: 0.1305\n",
      "Epoch 22/50\n",
      "60000/60000 [==============================] - 2s 35us/step - loss: 0.1308 - val_loss: 0.1283\n",
      "Epoch 23/50\n",
      "60000/60000 [==============================] - 2s 35us/step - loss: 0.1287 - val_loss: 0.1263\n",
      "Epoch 24/50\n",
      "60000/60000 [==============================] - 2s 34us/step - loss: 0.1267 - val_loss: 0.1242\n",
      "Epoch 25/50\n",
      "60000/60000 [==============================] - 2s 35us/step - loss: 0.1247 - val_loss: 0.1223\n",
      "Epoch 26/50\n",
      "60000/60000 [==============================] - 2s 36us/step - loss: 0.1229 - val_loss: 0.1205\n",
      "Epoch 27/50\n",
      "60000/60000 [==============================] - 2s 38us/step - loss: 0.1212 - val_loss: 0.1188\n",
      "Epoch 28/50\n",
      "60000/60000 [==============================] - 2s 37us/step - loss: 0.1196 - val_loss: 0.1172\n",
      "Epoch 29/50\n",
      "60000/60000 [==============================] - 2s 36us/step - loss: 0.1180 - val_loss: 0.1157\n",
      "Epoch 30/50\n",
      "60000/60000 [==============================] - 2s 35us/step - loss: 0.1166 - val_loss: 0.1144\n",
      "Epoch 31/50\n",
      "60000/60000 [==============================] - 2s 35us/step - loss: 0.1153 - val_loss: 0.1131\n",
      "Epoch 32/50\n",
      "60000/60000 [==============================] - 2s 35us/step - loss: 0.1141 - val_loss: 0.1119\n",
      "Epoch 33/50\n",
      "60000/60000 [==============================] - 2s 40us/step - loss: 0.1130 - val_loss: 0.1108\n",
      "Epoch 34/50\n",
      "60000/60000 [==============================] - 2s 35us/step - loss: 0.1120 - val_loss: 0.1099\n",
      "Epoch 35/50\n",
      "60000/60000 [==============================] - 2s 41us/step - loss: 0.1110 - val_loss: 0.1089\n",
      "Epoch 36/50\n",
      "60000/60000 [==============================] - 2s 36us/step - loss: 0.1101 - val_loss: 0.1081\n",
      "Epoch 37/50\n",
      "60000/60000 [==============================] - 2s 38us/step - loss: 0.1093 - val_loss: 0.1073\n",
      "Epoch 38/50\n",
      "60000/60000 [==============================] - 2s 34us/step - loss: 0.1086 - val_loss: 0.1066\n",
      "Epoch 39/50\n",
      "60000/60000 [==============================] - 2s 35us/step - loss: 0.1079 - val_loss: 0.1059\n",
      "Epoch 40/50\n",
      "60000/60000 [==============================] - 2s 34us/step - loss: 0.1072 - val_loss: 0.1053\n",
      "Epoch 41/50\n",
      "60000/60000 [==============================] - 2s 35us/step - loss: 0.1066 - val_loss: 0.1047\n",
      "Epoch 42/50\n",
      "60000/60000 [==============================] - 2s 35us/step - loss: 0.1061 - val_loss: 0.1042\n",
      "Epoch 43/50\n",
      "60000/60000 [==============================] - 2s 35us/step - loss: 0.1056 - val_loss: 0.1036\n",
      "Epoch 44/50\n",
      "60000/60000 [==============================] - 2s 34us/step - loss: 0.1051 - val_loss: 0.1032\n",
      "Epoch 45/50\n",
      "60000/60000 [==============================] - 2s 34us/step - loss: 0.1046 - val_loss: 0.1027\n",
      "Epoch 46/50\n",
      "60000/60000 [==============================] - 2s 34us/step - loss: 0.1042 - val_loss: 0.1023\n",
      "Epoch 47/50\n",
      "60000/60000 [==============================] - 2s 35us/step - loss: 0.1038 - val_loss: 0.1020\n",
      "Epoch 48/50\n",
      "60000/60000 [==============================] - 2s 35us/step - loss: 0.1034 - val_loss: 0.1016\n",
      "Epoch 49/50\n",
      "60000/60000 [==============================] - 2s 34us/step - loss: 0.1031 - val_loss: 0.1013\n",
      "Epoch 50/50\n",
      "60000/60000 [==============================] - 2s 34us/step - loss: 0.1028 - val_loss: 0.1010\n"
     ]
    },
    {
     "data": {
      "text/plain": [
       "<keras.callbacks.History at 0x1e6b7c24c50>"
      ]
     },
     "execution_count": 14,
     "metadata": {},
     "output_type": "execute_result"
    }
   ],
   "source": [
    "autoencoder.fit(x_train, x_train,\n",
    "                epochs=50,\n",
    "                batch_size=256,\n",
    "                shuffle=True,\n",
    "                validation_data=(x_test, x_test))"
   ]
  },
  {
   "cell_type": "code",
   "execution_count": 13,
   "metadata": {},
   "outputs": [],
   "source": [
    "# encode and decode some digits\n",
    "# note that we take them from the *test* set\n",
    "encoded_imgs = encoder.predict(x_test)\n",
    "decoded_imgs = decoder.predict(encoded_imgs)"
   ]
  },
  {
   "cell_type": "code",
   "execution_count": 14,
   "metadata": {},
   "outputs": [
    {
     "data": {
      "image/png": "[encoded data removed]",
      "text/plain": [
       "<Figure size 1440x288 with 20 Axes>"
      ]
     },
     "metadata": {
      "needs_background": "light"
     },
     "output_type": "display_data"
    }
   ],
   "source": [
    "n = 10  # how many digits we will display\n",
    "plt.figure(figsize=(20, 4))\n",
    "for i in range(n):\n",
    "    # display original\n",
    "    ax = plt.subplot(2, n, i + 1)\n",
    "    plt.imshow(x_test[i].reshape(28, 28))\n",
    "    plt.gray()\n",
    "    ax.get_xaxis().set_visible(False)\n",
    "    ax.get_yaxis().set_visible(False)\n",
    "\n",
    "    # display reconstruction\n",
    "    ax = plt.subplot(2, n, i + 1 + n)\n",
    "    plt.imshow(decoded_imgs[i].reshape(28, 28))\n",
    "    plt.gray()\n",
    "    ax.get_xaxis().set_visible(False)\n",
    "    ax.get_yaxis().set_visible(False)\n",
    "plt.show()"
   ]
  },
  {
   "cell_type": "code",
   "execution_count": 15,
   "metadata": {},
   "outputs": [
    {
     "name": "stdout",
     "output_type": "stream",
     "text": [
      "10000/10000 [==============================] - 0s 30us/step\n"
     ]
    }
   ],
   "source": [
    "score = autoencoder.evaluate(x_test, x_test)"
   ]
  },
  {
   "cell_type": "code",
   "execution_count": 16,
   "metadata": {},
   "outputs": [
    {
     "data": {
      "text/plain": [
       "0.10281121414899826"
      ]
     },
     "execution_count": 16,
     "metadata": {},
     "output_type": "execute_result"
    }
   ],
   "source": [
    "score"
   ]
  },
  {
   "cell_type": "code",
   "execution_count": 17,
   "metadata": {},
   "outputs": [
    {
     "data": {
      "image/png": "[encoded data removed]",
      "text/plain": [
       "<Figure size 1440x576 with 10 Axes>"
      ]
     },
     "metadata": {
      "needs_background": "light"
     },
     "output_type": "display_data"
    }
   ],
   "source": [
    "n = 10\n",
    "plt.figure(figsize=(20, 8))\n",
    "for i in range(n):\n",
    "    ax = plt.subplot(1, n, i+1)\n",
    "    plt.imshow(encoded_imgs[i].reshape(4, 8).T)\n",
    "    plt.gray()\n",
    "    ax.get_xaxis().set_visible(False)\n",
    "    ax.get_yaxis().set_visible(False)\n",
    "plt.show()"
   ]
  },
  {
   "cell_type": "markdown",
   "metadata": {},
   "source": [
    "### Deep FNN autoencoder"
   ]
  },
  {
   "cell_type": "code",
   "execution_count": 16,
   "metadata": {},
   "outputs": [],
   "source": [
    "input_img = Input(shape=(784,))\n",
    "encoded = Dense(128, activation='relu')(input_img)\n",
    "encoded = Dense(64, activation='relu')(encoded)\n",
    "encoded = Dense(32, activation='relu')(encoded)\n",
    "\n",
    "decoded = Dense(64, activation='relu')(encoded)\n",
    "decoded = Dense(128, activation='relu')(decoded)\n",
    "decoded = Dense(784, activation='sigmoid')(decoded)"
   ]
  },
  {
   "cell_type": "code",
   "execution_count": 18,
   "metadata": {},
   "outputs": [],
   "source": [
    "deep_autoencoder = Model(input_img, decoded)\n",
    "deep_autoencoder.compile(optimizer='adadelta', loss='binary_crossentropy')"
   ]
  },
  {
   "cell_type": "code",
   "execution_count": 19,
   "metadata": {},
   "outputs": [
    {
     "name": "stdout",
     "output_type": "stream",
     "text": [
      "Train on 60000 samples, validate on 10000 samples\n",
      "Epoch 1/100\n",
      "60000/60000 [==============================] - 5s 76us/step - loss: 0.3359 - val_loss: 0.2629\n",
      "Epoch 2/100\n",
      "60000/60000 [==============================] - 4s 73us/step - loss: 0.2551 - val_loss: 0.2463\n",
      "Epoch 3/100\n",
      "60000/60000 [==============================] - 4s 72us/step - loss: 0.2368 - val_loss: 0.2256\n",
      "Epoch 4/100\n",
      "60000/60000 [==============================] - 5s 77us/step - loss: 0.2183 - val_loss: 0.2101\n",
      "Epoch 5/100\n",
      "60000/60000 [==============================] - 4s 71us/step - loss: 0.2064 - val_loss: 0.1996\n",
      "Epoch 6/100\n",
      "60000/60000 [==============================] - 4s 70us/step - loss: 0.1941 - val_loss: 0.1864\n",
      "Epoch 7/100\n",
      "60000/60000 [==============================] - 4s 70us/step - loss: 0.1833 - val_loss: 0.1788\n",
      "Epoch 8/100\n",
      "60000/60000 [==============================] - 4s 67us/step - loss: 0.1753 - val_loss: 0.1707\n",
      "Epoch 9/100\n",
      "60000/60000 [==============================] - 4s 67us/step - loss: 0.1684 - val_loss: 0.1641\n",
      "Epoch 10/100\n",
      "60000/60000 [==============================] - 4s 70us/step - loss: 0.1628 - val_loss: 0.1591\n",
      "Epoch 11/100\n",
      "60000/60000 [==============================] - 4s 67us/step - loss: 0.1584 - val_loss: 0.1563\n",
      "Epoch 12/100\n",
      "60000/60000 [==============================] - 4s 67us/step - loss: 0.1551 - val_loss: 0.1525\n",
      "Epoch 13/100\n",
      "60000/60000 [==============================] - 4s 72us/step - loss: 0.1521 - val_loss: 0.1518\n",
      "Epoch 14/100\n",
      "60000/60000 [==============================] - 4s 72us/step - loss: 0.1494 - val_loss: 0.1445\n",
      "Epoch 15/100\n",
      "60000/60000 [==============================] - 4s 67us/step - loss: 0.1466 - val_loss: 0.1442\n",
      "Epoch 16/100\n",
      "60000/60000 [==============================] - 4s 67us/step - loss: 0.1442 - val_loss: 0.1427\n",
      "Epoch 17/100\n",
      "60000/60000 [==============================] - 4s 67us/step - loss: 0.1419 - val_loss: 0.1392\n",
      "Epoch 18/100\n",
      "60000/60000 [==============================] - 4s 68us/step - loss: 0.1397 - val_loss: 0.1358\n",
      "Epoch 19/100\n",
      "60000/60000 [==============================] - 4s 68us/step - loss: 0.1376 - val_loss: 0.1349\n",
      "Epoch 20/100\n",
      "60000/60000 [==============================] - 4s 67us/step - loss: 0.1360 - val_loss: 0.1361\n",
      "Epoch 21/100\n",
      "60000/60000 [==============================] - 4s 67us/step - loss: 0.1343 - val_loss: 0.1329\n",
      "Epoch 22/100\n",
      "60000/60000 [==============================] - 4s 67us/step - loss: 0.1329 - val_loss: 0.1302\n",
      "Epoch 23/100\n",
      "60000/60000 [==============================] - 4s 67us/step - loss: 0.1313 - val_loss: 0.1287\n",
      "Epoch 24/100\n",
      "60000/60000 [==============================] - 4s 65us/step - loss: 0.1297 - val_loss: 0.1259\n",
      "Epoch 25/100\n",
      "60000/60000 [==============================] - 4s 64us/step - loss: 0.1284 - val_loss: 0.1259\n",
      "Epoch 26/100\n",
      "60000/60000 [==============================] - 4s 63us/step - loss: 0.1270 - val_loss: 0.1250\n",
      "Epoch 27/100\n",
      "60000/60000 [==============================] - 4s 64us/step - loss: 0.1257 - val_loss: 0.1239\n",
      "Epoch 28/100\n",
      "60000/60000 [==============================] - 4s 63us/step - loss: 0.1246 - val_loss: 0.1236\n",
      "Epoch 29/100\n",
      "60000/60000 [==============================] - 4s 64us/step - loss: 0.1236 - val_loss: 0.1216\n",
      "Epoch 30/100\n",
      "60000/60000 [==============================] - 4s 63us/step - loss: 0.1225 - val_loss: 0.1203\n",
      "Epoch 31/100\n",
      "60000/60000 [==============================] - 4s 63us/step - loss: 0.1217 - val_loss: 0.1201\n",
      "Epoch 32/100\n",
      "60000/60000 [==============================] - 4s 63us/step - loss: 0.1209 - val_loss: 0.1197\n",
      "Epoch 33/100\n",
      "60000/60000 [==============================] - 4s 64us/step - loss: 0.1201 - val_loss: 0.1180\n",
      "Epoch 34/100\n",
      "60000/60000 [==============================] - 4s 63us/step - loss: 0.1191 - val_loss: 0.1171\n",
      "Epoch 35/100\n",
      "60000/60000 [==============================] - 4s 63us/step - loss: 0.1184 - val_loss: 0.1175\n",
      "Epoch 36/100\n",
      "60000/60000 [==============================] - 4s 64us/step - loss: 0.1176 - val_loss: 0.1155\n",
      "Epoch 37/100\n",
      "60000/60000 [==============================] - 4s 64us/step - loss: 0.1170 - val_loss: 0.1141\n",
      "Epoch 38/100\n",
      "60000/60000 [==============================] - 4s 64us/step - loss: 0.1162 - val_loss: 0.1164\n",
      "Epoch 39/100\n",
      "60000/60000 [==============================] - 4s 64us/step - loss: 0.1156 - val_loss: 0.1134\n",
      "Epoch 40/100\n",
      "60000/60000 [==============================] - 4s 67us/step - loss: 0.1150 - val_loss: 0.1143\n",
      "Epoch 41/100\n",
      "60000/60000 [==============================] - 4s 67us/step - loss: 0.1147 - val_loss: 0.1131\n",
      "Epoch 42/100\n",
      "60000/60000 [==============================] - 4s 68us/step - loss: 0.1141 - val_loss: 0.1120\n",
      "Epoch 43/100\n",
      "60000/60000 [==============================] - 4s 68us/step - loss: 0.1134 - val_loss: 0.1117\n",
      "Epoch 44/100\n",
      "60000/60000 [==============================] - 4s 67us/step - loss: 0.1130 - val_loss: 0.1101\n",
      "Epoch 45/100\n",
      "60000/60000 [==============================] - 4s 67us/step - loss: 0.1124 - val_loss: 0.1119\n",
      "Epoch 46/100\n",
      "60000/60000 [==============================] - 4s 68us/step - loss: 0.1121 - val_loss: 0.1103\n",
      "Epoch 47/100\n",
      "60000/60000 [==============================] - 4s 67us/step - loss: 0.1116 - val_loss: 0.1103\n",
      "Epoch 48/100\n",
      "60000/60000 [==============================] - 4s 68us/step - loss: 0.1111 - val_loss: 0.1098\n",
      "Epoch 49/100\n",
      "60000/60000 [==============================] - 4s 68us/step - loss: 0.1108 - val_loss: 0.1093\n",
      "Epoch 50/100\n",
      "60000/60000 [==============================] - 4s 68us/step - loss: 0.1103 - val_loss: 0.1098\n",
      "Epoch 51/100\n",
      "60000/60000 [==============================] - 4s 68us/step - loss: 0.1099 - val_loss: 0.1077\n",
      "Epoch 52/100\n",
      "60000/60000 [==============================] - 4s 68us/step - loss: 0.1094 - val_loss: 0.1082\n",
      "Epoch 53/100\n",
      "60000/60000 [==============================] - 4s 68us/step - loss: 0.1090 - val_loss: 0.1078\n",
      "Epoch 54/100\n",
      "60000/60000 [==============================] - 4s 68us/step - loss: 0.1087 - val_loss: 0.1090\n",
      "Epoch 55/100\n",
      "60000/60000 [==============================] - 4s 67us/step - loss: 0.1082 - val_loss: 0.1062\n",
      "Epoch 56/100\n",
      "60000/60000 [==============================] - 4s 64us/step - loss: 0.1080 - val_loss: 0.1072\n",
      "Epoch 57/100\n",
      "60000/60000 [==============================] - 4s 63us/step - loss: 0.1077 - val_loss: 0.1065\n",
      "Epoch 58/100\n",
      "60000/60000 [==============================] - 4s 64us/step - loss: 0.1073 - val_loss: 0.1047\n",
      "Epoch 59/100\n",
      "60000/60000 [==============================] - 4s 64us/step - loss: 0.1070 - val_loss: 0.1088\n",
      "Epoch 60/100\n",
      "60000/60000 [==============================] - 4s 65us/step - loss: 0.1067 - val_loss: 0.1049\n",
      "Epoch 61/100\n",
      "60000/60000 [==============================] - 4s 64us/step - loss: 0.1064 - val_loss: 0.1045\n",
      "Epoch 62/100\n",
      "60000/60000 [==============================] - 4s 63us/step - loss: 0.1060 - val_loss: 0.1054\n",
      "Epoch 63/100\n",
      "60000/60000 [==============================] - 4s 64us/step - loss: 0.1057 - val_loss: 0.1043\n",
      "Epoch 64/100\n",
      "60000/60000 [==============================] - 4s 64us/step - loss: 0.1054 - val_loss: 0.1033\n",
      "Epoch 65/100\n",
      "60000/60000 [==============================] - 4s 64us/step - loss: 0.1052 - val_loss: 0.1043\n",
      "Epoch 66/100\n",
      "60000/60000 [==============================] - 4s 64us/step - loss: 0.1049 - val_loss: 0.1035\n",
      "Epoch 67/100\n",
      "60000/60000 [==============================] - 4s 65us/step - loss: 0.1046 - val_loss: 0.1035\n",
      "Epoch 68/100\n",
      "60000/60000 [==============================] - 4s 64us/step - loss: 0.1045 - val_loss: 0.1048\n",
      "Epoch 69/100\n",
      "60000/60000 [==============================] - 4s 64us/step - loss: 0.1041 - val_loss: 0.1034\n",
      "Epoch 70/100\n",
      "60000/60000 [==============================] - 4s 65us/step - loss: 0.1039 - val_loss: 0.1034\n",
      "Epoch 71/100\n",
      "60000/60000 [==============================] - 4s 67us/step - loss: 0.1037 - val_loss: 0.1021\n",
      "Epoch 72/100\n",
      "60000/60000 [==============================] - 4s 68us/step - loss: 0.1035 - val_loss: 0.1021\n",
      "Epoch 73/100\n",
      "60000/60000 [==============================] - 4s 68us/step - loss: 0.1033 - val_loss: 0.1016\n",
      "Epoch 74/100\n",
      "60000/60000 [==============================] - 4s 70us/step - loss: 0.1031 - val_loss: 0.1005\n",
      "Epoch 75/100\n",
      "60000/60000 [==============================] - 5s 80us/step - loss: 0.1028 - val_loss: 0.1037\n",
      "Epoch 76/100\n",
      "60000/60000 [==============================] - 5s 76us/step - loss: 0.1027 - val_loss: 0.1020\n",
      "Epoch 77/100\n",
      "60000/60000 [==============================] - 5s 75us/step - loss: 0.1023 - val_loss: 0.1017\n",
      "Epoch 78/100\n",
      "60000/60000 [==============================] - 4s 72us/step - loss: 0.1021 - val_loss: 0.1003\n",
      "Epoch 79/100\n",
      "60000/60000 [==============================] - 4s 73us/step - loss: 0.1020 - val_loss: 0.1013\n",
      "Epoch 80/100\n",
      "60000/60000 [==============================] - 4s 71us/step - loss: 0.1017 - val_loss: 0.0997\n",
      "Epoch 81/100\n",
      "60000/60000 [==============================] - 4s 70us/step - loss: 0.1014 - val_loss: 0.1017\n",
      "Epoch 82/100\n",
      "60000/60000 [==============================] - 4s 71us/step - loss: 0.1013 - val_loss: 0.1018\n",
      "Epoch 83/100\n",
      "60000/60000 [==============================] - 4s 70us/step - loss: 0.1009 - val_loss: 0.1016\n",
      "Epoch 84/100\n",
      "60000/60000 [==============================] - 4s 70us/step - loss: 0.1009 - val_loss: 0.1003\n",
      "Epoch 85/100\n",
      "60000/60000 [==============================] - 4s 68us/step - loss: 0.1006 - val_loss: 0.1003\n",
      "Epoch 86/100\n",
      "60000/60000 [==============================] - 4s 68us/step - loss: 0.1004 - val_loss: 0.0988\n",
      "Epoch 87/100\n",
      "60000/60000 [==============================] - 4s 69us/step - loss: 0.1003 - val_loss: 0.0994\n",
      "Epoch 88/100\n",
      "60000/60000 [==============================] - 4s 68us/step - loss: 0.1001 - val_loss: 0.0989\n",
      "Epoch 89/100\n",
      "60000/60000 [==============================] - 4s 71us/step - loss: 0.0998 - val_loss: 0.1021\n",
      "Epoch 90/100\n",
      "60000/60000 [==============================] - 4s 74us/step - loss: 0.0997 - val_loss: 0.0972\n",
      "Epoch 91/100\n",
      "60000/60000 [==============================] - 4s 75us/step - loss: 0.0996 - val_loss: 0.0995\n",
      "Epoch 92/100\n",
      "60000/60000 [==============================] - 4s 72us/step - loss: 0.0994 - val_loss: 0.0978\n",
      "Epoch 93/100\n",
      "60000/60000 [==============================] - 5s 75us/step - loss: 0.0992 - val_loss: 0.0966\n",
      "Epoch 94/100\n",
      "60000/60000 [==============================] - 5s 76us/step - loss: 0.0990 - val_loss: 0.0987\n",
      "Epoch 95/100\n",
      "60000/60000 [==============================] - 5s 77us/step - loss: 0.0990 - val_loss: 0.0968\n",
      "Epoch 96/100\n",
      "60000/60000 [==============================] - 5s 78us/step - loss: 0.0986 - val_loss: 0.0972\n",
      "Epoch 97/100\n",
      "60000/60000 [==============================] - 5s 77us/step - loss: 0.0986 - val_loss: 0.0968\n",
      "Epoch 98/100\n",
      "60000/60000 [==============================] - 5s 81us/step - loss: 0.0983 - val_loss: 0.1000\n",
      "Epoch 99/100\n",
      "60000/60000 [==============================] - 5s 82us/step - loss: 0.0984 - val_loss: 0.0965\n",
      "Epoch 100/100\n",
      "60000/60000 [==============================] - 5s 82us/step - loss: 0.0981 - val_loss: 0.0973\n"
     ]
    },
    {
     "data": {
      "text/plain": [
       "<keras.callbacks.History at 0x22bf51a0550>"
      ]
     },
     "execution_count": 19,
     "metadata": {},
     "output_type": "execute_result"
    }
   ],
   "source": [
    "deep_autoencoder.fit(x_train, x_train,\n",
    "                epochs=100,\n",
    "                batch_size=256,\n",
    "                shuffle=True,\n",
    "                validation_data=(x_test, x_test))"
   ]
  },
  {
   "cell_type": "code",
   "execution_count": 20,
   "metadata": {},
   "outputs": [],
   "source": [
    "# this model maps an input to its encoded representation\n",
    "deep_encoder = Model(input_img, encoded)"
   ]
  },
  {
   "cell_type": "code",
   "execution_count": 19,
   "metadata": {},
   "outputs": [
    {
     "name": "stdout",
     "output_type": "stream",
     "text": [
      "_________________________________________________________________\n",
      "Layer (type)                 Output Shape              Param #   \n",
      "=================================================================\n",
      "input_3 (InputLayer)         (None, 784)               0         \n",
      "_________________________________________________________________\n",
      "dense_3 (Dense)              (None, 128)               100480    \n",
      "_________________________________________________________________\n",
      "dense_4 (Dense)              (None, 64)                8256      \n",
      "_________________________________________________________________\n",
      "dense_5 (Dense)              (None, 32)                2080      \n",
      "_________________________________________________________________\n",
      "dense_6 (Dense)              (None, 64)                2112      \n",
      "_________________________________________________________________\n",
      "dense_7 (Dense)              (None, 128)               8320      \n",
      "_________________________________________________________________\n",
      "dense_8 (Dense)              (None, 784)               101136    \n",
      "=================================================================\n",
      "Total params: 222,384\n",
      "Trainable params: 222,384\n",
      "Non-trainable params: 0\n",
      "_________________________________________________________________\n"
     ]
    }
   ],
   "source": [
    "deep_autoencoder.summary()"
   ]
  },
  {
   "cell_type": "code",
   "execution_count": 21,
   "metadata": {},
   "outputs": [],
   "source": [
    "# create a placeholder for an encoded (32-dimensional) input\n",
    "deep_encoded_input = Input(shape=(32,))"
   ]
  },
  {
   "cell_type": "code",
   "execution_count": 22,
   "metadata": {},
   "outputs": [],
   "source": [
    "deep_decoder_layers = deep_autoencoder.layers[-3](deep_encoded_input)\n",
    "deep_decoder_layers = deep_autoencoder.layers[-2](deep_decoder_layers)\n",
    "deep_decoder_layers = deep_autoencoder.layers[-1](deep_decoder_layers)\n",
    "deep_decoder = Model(deep_encoded_input, deep_decoder_layers)"
   ]
  },
  {
   "cell_type": "code",
   "execution_count": 23,
   "metadata": {},
   "outputs": [],
   "source": [
    "encoded_imgs = deep_encoder.predict(x_test)\n",
    "decoded_imgs = deep_decoder.predict(encoded_imgs)"
   ]
  },
  {
   "cell_type": "code",
   "execution_count": 24,
   "metadata": {},
   "outputs": [
    {
     "data": {
      "image/png": "[encoded data removed]",
      "text/plain": [
       "<Figure size 1440x288 with 20 Axes>"
      ]
     },
     "metadata": {
      "needs_background": "light"
     },
     "output_type": "display_data"
    }
   ],
   "source": [
    "n = 10  # how many digits we will display\n",
    "plt.figure(figsize=(20, 4))\n",
    "for i in range(n):\n",
    "    # display original\n",
    "    ax = plt.subplot(2, n, i + 1)\n",
    "    plt.imshow(x_test[i].reshape(28, 28))\n",
    "    plt.gray()\n",
    "    ax.get_xaxis().set_visible(False)\n",
    "    ax.get_yaxis().set_visible(False)\n",
    "\n",
    "    # display reconstruction\n",
    "    ax = plt.subplot(2, n, i + 1 + n)\n",
    "    plt.imshow(decoded_imgs[i].reshape(28, 28))\n",
    "    plt.gray()\n",
    "    ax.get_xaxis().set_visible(False)\n",
    "    ax.get_yaxis().set_visible(False)\n",
    "plt.show()"
   ]
  },
  {
   "cell_type": "code",
   "execution_count": 25,
   "metadata": {},
   "outputs": [
    {
     "name": "stdout",
     "output_type": "stream",
     "text": [
      "10000/10000 [==============================] - 1s 89us/step\n"
     ]
    }
   ],
   "source": [
    "score = deep_autoencoder.evaluate(x_test, x_test)"
   ]
  },
  {
   "cell_type": "code",
   "execution_count": 26,
   "metadata": {},
   "outputs": [
    {
     "data": {
      "text/plain": [
       "0.09725572307109832"
      ]
     },
     "execution_count": 26,
     "metadata": {},
     "output_type": "execute_result"
    }
   ],
   "source": [
    "score"
   ]
  },
  {
   "cell_type": "code",
   "execution_count": 27,
   "metadata": {},
   "outputs": [
    {
     "data": {
      "image/png": "[encoded data removed]",
      "text/plain": [
       "<Figure size 1440x576 with 10 Axes>"
      ]
     },
     "metadata": {
      "needs_background": "light"
     },
     "output_type": "display_data"
    }
   ],
   "source": [
    "n = 10\n",
    "plt.figure(figsize=(20, 8))\n",
    "for i in range(n):\n",
    "    ax = plt.subplot(1, n, i+1)\n",
    "    plt.imshow(encoded_imgs[i].reshape(4, 8).T)\n",
    "    plt.gray()\n",
    "    ax.get_xaxis().set_visible(False)\n",
    "    ax.get_yaxis().set_visible(False)\n",
    "plt.show()"
   ]
  },
  {
   "cell_type": "markdown",
   "metadata": {},
   "source": [
    "### Deep regularized FNN autoencoder"
   ]
  },
  {
   "cell_type": "code",
   "execution_count": 28,
   "metadata": {},
   "outputs": [],
   "source": [
    "from keras import regularizers"
   ]
  },
  {
   "cell_type": "code",
   "execution_count": 29,
   "metadata": {},
   "outputs": [],
   "source": [
    "input_img = Input(shape=(784,))\n",
    "encoded = Dense(128, activation='relu', activity_regularizer=regularizers.l1(10e-7))(input_img)\n",
    "encoded = Dense(64, activation='relu', activity_regularizer=regularizers.l1(10e-7))(encoded)\n",
    "encoded = Dense(32, activation='relu', activity_regularizer=regularizers.l1(10e-7))(encoded)\n",
    "\n",
    "decoded = Dense(64, activation='relu')(encoded)\n",
    "decoded = Dense(128, activation='relu')(decoded)\n",
    "decoded = Dense(784, activation='sigmoid')(decoded)"
   ]
  },
  {
   "cell_type": "code",
   "execution_count": 30,
   "metadata": {},
   "outputs": [
    {
     "name": "stdout",
     "output_type": "stream",
     "text": [
      "Train on 60000 samples, validate on 10000 samples\n",
      "Epoch 1/100\n",
      "60000/60000 [==============================] - 6s 97us/step - loss: 0.4243 - val_loss: 0.2660\n",
      "Epoch 2/100\n",
      "60000/60000 [==============================] - 5s 80us/step - loss: 0.2606 - val_loss: 0.2579\n",
      "Epoch 3/100\n",
      "60000/60000 [==============================] - 5s 80us/step - loss: 0.2567 - val_loss: 0.2556\n",
      "Epoch 4/100\n",
      "60000/60000 [==============================] - 5s 83us/step - loss: 0.2549 - val_loss: 0.2544\n",
      "Epoch 5/100\n",
      "60000/60000 [==============================] - 5s 80us/step - loss: 0.2537 - val_loss: 0.2531\n",
      "Epoch 6/100\n",
      "60000/60000 [==============================] - 5s 81us/step - loss: 0.2527 - val_loss: 0.2523\n",
      "Epoch 7/100\n",
      "60000/60000 [==============================] - 5s 81us/step - loss: 0.2518 - val_loss: 0.2512\n",
      "Epoch 8/100\n",
      "60000/60000 [==============================] - 5s 81us/step - loss: 0.2509 - val_loss: 0.2501\n",
      "Epoch 9/100\n",
      "60000/60000 [==============================] - 5s 80us/step - loss: 0.2497 - val_loss: 0.2489\n",
      "Epoch 10/100\n",
      "60000/60000 [==============================] - 5s 78us/step - loss: 0.2482 - val_loss: 0.2476\n",
      "Epoch 11/100\n",
      "60000/60000 [==============================] - 5s 76us/step - loss: 0.2469 - val_loss: 0.2461\n",
      "Epoch 12/100\n",
      "60000/60000 [==============================] - 5s 76us/step - loss: 0.2457 - val_loss: 0.2452\n",
      "Epoch 13/100\n",
      "60000/60000 [==============================] - 5s 77us/step - loss: 0.2448 - val_loss: 0.2443\n",
      "Epoch 14/100\n",
      "60000/60000 [==============================] - 5s 76us/step - loss: 0.2440 - val_loss: 0.2432\n",
      "Epoch 15/100\n",
      "60000/60000 [==============================] - 5s 76us/step - loss: 0.2433 - val_loss: 0.2426\n",
      "Epoch 16/100\n",
      "60000/60000 [==============================] - 5s 76us/step - loss: 0.2427 - val_loss: 0.2419\n",
      "Epoch 17/100\n",
      "60000/60000 [==============================] - 5s 78us/step - loss: 0.2421 - val_loss: 0.2414\n",
      "Epoch 18/100\n",
      "60000/60000 [==============================] - 5s 76us/step - loss: 0.2416 - val_loss: 0.2409\n",
      "Epoch 19/100\n",
      "60000/60000 [==============================] - 5s 77us/step - loss: 0.2411 - val_loss: 0.2405\n",
      "Epoch 20/100\n",
      "60000/60000 [==============================] - 5s 76us/step - loss: 0.2406 - val_loss: 0.2398\n",
      "Epoch 21/100\n",
      "60000/60000 [==============================] - 5s 75us/step - loss: 0.2398 - val_loss: 0.2388\n",
      "Epoch 22/100\n",
      "60000/60000 [==============================] - 5s 78us/step - loss: 0.2388 - val_loss: 0.2378\n",
      "Epoch 23/100\n",
      "60000/60000 [==============================] - 5s 81us/step - loss: 0.2380 - val_loss: 0.2369\n",
      "Epoch 24/100\n",
      "60000/60000 [==============================] - 5s 80us/step - loss: 0.2372 - val_loss: 0.2364\n",
      "Epoch 25/100\n",
      "60000/60000 [==============================] - 5s 81us/step - loss: 0.2365 - val_loss: 0.2356\n",
      "Epoch 26/100\n",
      "60000/60000 [==============================] - 5s 81us/step - loss: 0.2359 - val_loss: 0.2347\n",
      "Epoch 27/100\n",
      "60000/60000 [==============================] - 5s 80us/step - loss: 0.2353 - val_loss: 0.2345\n",
      "Epoch 28/100\n",
      "60000/60000 [==============================] - 5s 81us/step - loss: 0.2347 - val_loss: 0.2338\n",
      "Epoch 29/100\n",
      "60000/60000 [==============================] - 5s 80us/step - loss: 0.2342 - val_loss: 0.2335\n",
      "Epoch 30/100\n",
      "60000/60000 [==============================] - 5s 81us/step - loss: 0.2336 - val_loss: 0.2325\n",
      "Epoch 31/100\n",
      "60000/60000 [==============================] - 5s 80us/step - loss: 0.2329 - val_loss: 0.2319\n",
      "Epoch 32/100\n",
      "60000/60000 [==============================] - 5s 81us/step - loss: 0.2320 - val_loss: 0.2310\n",
      "Epoch 33/100\n",
      "60000/60000 [==============================] - 5s 80us/step - loss: 0.2308 - val_loss: 0.2295\n",
      "Epoch 34/100\n",
      "60000/60000 [==============================] - 5s 81us/step - loss: 0.2295 - val_loss: 0.2280\n",
      "Epoch 35/100\n",
      "60000/60000 [==============================] - 5s 81us/step - loss: 0.2282 - val_loss: 0.2269\n",
      "Epoch 36/100\n",
      "60000/60000 [==============================] - 5s 80us/step - loss: 0.2270 - val_loss: 0.2256\n",
      "Epoch 37/100\n",
      "60000/60000 [==============================] - 5s 81us/step - loss: 0.2256 - val_loss: 0.2242\n",
      "Epoch 38/100\n",
      "60000/60000 [==============================] - 5s 84us/step - loss: 0.2245 - val_loss: 0.2231\n",
      "Epoch 39/100\n",
      "60000/60000 [==============================] - 5s 82us/step - loss: 0.2231 - val_loss: 0.2216\n",
      "Epoch 40/100\n",
      "60000/60000 [==============================] - 5s 78us/step - loss: 0.2211 - val_loss: 0.2195\n",
      "Epoch 41/100\n",
      "60000/60000 [==============================] - 4s 73us/step - loss: 0.2192 - val_loss: 0.2182\n",
      "Epoch 42/100\n",
      "60000/60000 [==============================] - 4s 74us/step - loss: 0.2177 - val_loss: 0.2160\n",
      "Epoch 43/100\n",
      "60000/60000 [==============================] - 4s 73us/step - loss: 0.2163 - val_loss: 0.2149\n",
      "Epoch 44/100\n",
      "60000/60000 [==============================] - 4s 73us/step - loss: 0.2147 - val_loss: 0.2133\n",
      "Epoch 45/100\n",
      "60000/60000 [==============================] - 4s 74us/step - loss: 0.2133 - val_loss: 0.2121\n",
      "Epoch 46/100\n",
      "60000/60000 [==============================] - 4s 73us/step - loss: 0.2119 - val_loss: 0.2106\n",
      "Epoch 47/100\n",
      "60000/60000 [==============================] - 5s 76us/step - loss: 0.2107 - val_loss: 0.2098\n",
      "Epoch 48/100\n",
      "60000/60000 [==============================] - 5s 77us/step - loss: 0.2095 - val_loss: 0.2082\n",
      "Epoch 49/100\n",
      "60000/60000 [==============================] - 5s 76us/step - loss: 0.2082 - val_loss: 0.2073\n",
      "Epoch 50/100\n",
      "60000/60000 [==============================] - 5s 76us/step - loss: 0.2070 - val_loss: 0.2061\n",
      "Epoch 51/100\n",
      "60000/60000 [==============================] - 4s 75us/step - loss: 0.2057 - val_loss: 0.2047\n",
      "Epoch 52/100\n",
      "60000/60000 [==============================] - 6s 99us/step - loss: 0.2044 - val_loss: 0.2038\n",
      "Epoch 53/100\n",
      "60000/60000 [==============================] - 5s 83us/step - loss: 0.2032 - val_loss: 0.2031\n",
      "Epoch 54/100\n",
      "60000/60000 [==============================] - 5s 76us/step - loss: 0.2020 - val_loss: 0.2011\n",
      "Epoch 55/100\n",
      "60000/60000 [==============================] - 5s 77us/step - loss: 0.2007 - val_loss: 0.2000\n",
      "Epoch 56/100\n",
      "60000/60000 [==============================] - 4s 74us/step - loss: 0.1997 - val_loss: 0.1991\n",
      "Epoch 57/100\n",
      "60000/60000 [==============================] - 4s 74us/step - loss: 0.1986 - val_loss: 0.1993\n",
      "Epoch 58/100\n",
      "60000/60000 [==============================] - 4s 74us/step - loss: 0.1975 - val_loss: 0.1966\n",
      "Epoch 59/100\n",
      "60000/60000 [==============================] - 4s 74us/step - loss: 0.1966 - val_loss: 0.1967\n",
      "Epoch 60/100\n",
      "60000/60000 [==============================] - 4s 73us/step - loss: 0.1956 - val_loss: 0.1949\n",
      "Epoch 61/100\n",
      "60000/60000 [==============================] - 4s 73us/step - loss: 0.1946 - val_loss: 0.1947\n",
      "Epoch 62/100\n",
      "60000/60000 [==============================] - 4s 74us/step - loss: 0.1936 - val_loss: 0.1939\n",
      "Epoch 63/100\n",
      "60000/60000 [==============================] - 4s 72us/step - loss: 0.1925 - val_loss: 0.1929\n",
      "Epoch 64/100\n",
      "60000/60000 [==============================] - 4s 68us/step - loss: 0.1915 - val_loss: 0.1907\n",
      "Epoch 65/100\n",
      "60000/60000 [==============================] - 4s 68us/step - loss: 0.1905 - val_loss: 0.1892\n",
      "Epoch 66/100\n",
      "60000/60000 [==============================] - 4s 68us/step - loss: 0.1896 - val_loss: 0.1892\n",
      "Epoch 67/100\n",
      "60000/60000 [==============================] - 4s 69us/step - loss: 0.1889 - val_loss: 0.1888\n",
      "Epoch 68/100\n",
      "60000/60000 [==============================] - 4s 69us/step - loss: 0.1881 - val_loss: 0.1884\n",
      "Epoch 69/100\n",
      "60000/60000 [==============================] - 4s 68us/step - loss: 0.1874 - val_loss: 0.1864\n",
      "Epoch 70/100\n",
      "60000/60000 [==============================] - 4s 68us/step - loss: 0.1867 - val_loss: 0.1856\n",
      "Epoch 71/100\n",
      "60000/60000 [==============================] - 4s 68us/step - loss: 0.1862 - val_loss: 0.1853\n",
      "Epoch 72/100\n",
      "60000/60000 [==============================] - 4s 70us/step - loss: 0.1856 - val_loss: 0.1848\n",
      "Epoch 73/100\n",
      "60000/60000 [==============================] - 4s 72us/step - loss: 0.1850 - val_loss: 0.1845\n",
      "Epoch 74/100\n",
      "60000/60000 [==============================] - 4s 69us/step - loss: 0.1846 - val_loss: 0.1835\n",
      "Epoch 75/100\n",
      "60000/60000 [==============================] - 4s 69us/step - loss: 0.1841 - val_loss: 0.1834\n",
      "Epoch 76/100\n",
      "60000/60000 [==============================] - 4s 69us/step - loss: 0.1837 - val_loss: 0.1842\n",
      "Epoch 77/100\n",
      "60000/60000 [==============================] - 4s 69us/step - loss: 0.1831 - val_loss: 0.1841\n",
      "Epoch 78/100\n",
      "60000/60000 [==============================] - 4s 69us/step - loss: 0.1826 - val_loss: 0.1822\n",
      "Epoch 79/100\n",
      "60000/60000 [==============================] - 4s 74us/step - loss: 0.1822 - val_loss: 0.1835\n",
      "Epoch 80/100\n",
      "60000/60000 [==============================] - 5s 76us/step - loss: 0.1817 - val_loss: 0.1810\n",
      "Epoch 81/100\n",
      "60000/60000 [==============================] - 4s 73us/step - loss: 0.1814 - val_loss: 0.1805\n",
      "Epoch 82/100\n",
      "60000/60000 [==============================] - 4s 73us/step - loss: 0.1810 - val_loss: 0.1803\n",
      "Epoch 83/100\n",
      "60000/60000 [==============================] - 4s 74us/step - loss: 0.1806 - val_loss: 0.1808\n",
      "Epoch 84/100\n",
      "60000/60000 [==============================] - 5s 75us/step - loss: 0.1803 - val_loss: 0.1807\n",
      "Epoch 85/100\n",
      "60000/60000 [==============================] - 7s 119us/step - loss: 0.1798 - val_loss: 0.1797\n",
      "Epoch 86/100\n",
      "60000/60000 [==============================] - 5s 86us/step - loss: 0.1795 - val_loss: 0.1794\n",
      "Epoch 87/100\n",
      "60000/60000 [==============================] - 5s 91us/step - loss: 0.1791 - val_loss: 0.1796\n",
      "Epoch 88/100\n",
      "60000/60000 [==============================] - 5s 86us/step - loss: 0.1789 - val_loss: 0.1785\n",
      "Epoch 89/100\n",
      "60000/60000 [==============================] - 5s 83us/step - loss: 0.1784 - val_loss: 0.1776\n",
      "Epoch 90/100\n",
      "60000/60000 [==============================] - 5s 81us/step - loss: 0.1782 - val_loss: 0.1779\n",
      "Epoch 91/100\n",
      "60000/60000 [==============================] - 5s 79us/step - loss: 0.1778 - val_loss: 0.1774\n",
      "Epoch 92/100\n",
      "60000/60000 [==============================] - 6s 97us/step - loss: 0.1774 - val_loss: 0.1766\n",
      "Epoch 93/100\n",
      "60000/60000 [==============================] - 5s 88us/step - loss: 0.1771 - val_loss: 0.1760\n",
      "Epoch 94/100\n",
      "60000/60000 [==============================] - 5s 89us/step - loss: 0.1767 - val_loss: 0.1763\n",
      "Epoch 95/100\n",
      "60000/60000 [==============================] - 5s 89us/step - loss: 0.1765 - val_loss: 0.1762\n",
      "Epoch 96/100\n",
      "60000/60000 [==============================] - 5s 86us/step - loss: 0.1762 - val_loss: 0.1752\n",
      "Epoch 97/100\n",
      "60000/60000 [==============================] - 5s 88us/step - loss: 0.1758 - val_loss: 0.1755\n",
      "Epoch 98/100\n",
      "60000/60000 [==============================] - 5s 88us/step - loss: 0.1754 - val_loss: 0.1751\n",
      "Epoch 99/100\n",
      "60000/60000 [==============================] - 5s 82us/step - loss: 0.1750 - val_loss: 0.1745\n",
      "Epoch 100/100\n",
      "60000/60000 [==============================] - 5s 88us/step - loss: 0.1746 - val_loss: 0.1737\n"
     ]
    },
    {
     "data": {
      "text/plain": [
       "<keras.callbacks.History at 0x22b819fdc88>"
      ]
     },
     "execution_count": 30,
     "metadata": {},
     "output_type": "execute_result"
    }
   ],
   "source": [
    "deep_autoencoder_l1 = Model(input_img, decoded)\n",
    "deep_autoencoder_l1.compile(optimizer='adadelta', loss='binary_crossentropy')\n",
    "\n",
    "deep_autoencoder_l1.fit(x_train, x_train,\n",
    "                epochs=100,\n",
    "                batch_size=256,\n",
    "                shuffle=True,\n",
    "                validation_data=(x_test, x_test))"
   ]
  },
  {
   "cell_type": "code",
   "execution_count": 31,
   "metadata": {},
   "outputs": [],
   "source": [
    "# this model maps an input to its encoded representation\n",
    "deep_encoder_l1 = Model(input_img, encoded)"
   ]
  },
  {
   "cell_type": "code",
   "execution_count": 32,
   "metadata": {},
   "outputs": [],
   "source": [
    "# create a placeholder for an encoded (32-dimensional) input\n",
    "deep_encoded_input_l1 = Input(shape=(32,))"
   ]
  },
  {
   "cell_type": "code",
   "execution_count": 33,
   "metadata": {},
   "outputs": [],
   "source": [
    "deep_decoder_layers_l1 = deep_autoencoder_l1.layers[-3](deep_encoded_input_l1)\n",
    "deep_decoder_layers_l1 = deep_autoencoder_l1.layers[-2](deep_decoder_layers_l1)\n",
    "deep_decoder_layers_l1 = deep_autoencoder_l1.layers[-1](deep_decoder_layers_l1)\n",
    "deep_decoder_l1 = Model(deep_encoded_input_l1, deep_decoder_layers_l1)"
   ]
  },
  {
   "cell_type": "code",
   "execution_count": 34,
   "metadata": {},
   "outputs": [],
   "source": [
    "encoded_imgs = deep_encoder_l1.predict(x_test)\n",
    "decoded_imgs = deep_decoder_l1.predict(encoded_imgs)"
   ]
  },
  {
   "cell_type": "code",
   "execution_count": 35,
   "metadata": {},
   "outputs": [
    {
     "data": {
      "image/png": "[encoded data removed]",
      "text/plain": [
       "<Figure size 1440x288 with 20 Axes>"
      ]
     },
     "metadata": {
      "needs_background": "light"
     },
     "output_type": "display_data"
    }
   ],
   "source": [
    "n = 10  # how many digits we will display\n",
    "plt.figure(figsize=(20, 4))\n",
    "for i in range(n):\n",
    "    # display original\n",
    "    ax = plt.subplot(2, n, i + 1)\n",
    "    plt.imshow(x_test[i].reshape(28, 28))\n",
    "    plt.gray()\n",
    "    ax.get_xaxis().set_visible(False)\n",
    "    ax.get_yaxis().set_visible(False)\n",
    "\n",
    "    # display reconstruction\n",
    "    ax = plt.subplot(2, n, i + 1 + n)\n",
    "    plt.imshow(decoded_imgs[i].reshape(28, 28))\n",
    "    plt.gray()\n",
    "    ax.get_xaxis().set_visible(False)\n",
    "    ax.get_yaxis().set_visible(False)\n",
    "plt.show()"
   ]
  },
  {
   "cell_type": "code",
   "execution_count": 36,
   "metadata": {},
   "outputs": [
    {
     "name": "stdout",
     "output_type": "stream",
     "text": [
      "10000/10000 [==============================] - 1s 60us/step\n"
     ]
    }
   ],
   "source": [
    "score = deep_autoencoder_l1.evaluate(x_test, x_test)"
   ]
  },
  {
   "cell_type": "code",
   "execution_count": 37,
   "metadata": {},
   "outputs": [
    {
     "data": {
      "text/plain": [
       "0.16980867693424226"
      ]
     },
     "execution_count": 37,
     "metadata": {},
     "output_type": "execute_result"
    }
   ],
   "source": [
    "score"
   ]
  },
  {
   "cell_type": "code",
   "execution_count": 38,
   "metadata": {},
   "outputs": [
    {
     "data": {
      "image/png": "[encoded data removed]",
      "text/plain": [
       "<Figure size 1440x576 with 10 Axes>"
      ]
     },
     "metadata": {
      "needs_background": "light"
     },
     "output_type": "display_data"
    }
   ],
   "source": [
    "n = 10\n",
    "plt.figure(figsize=(20, 8))\n",
    "for i in range(n):\n",
    "    ax = plt.subplot(1, n, i+1)\n",
    "    plt.imshow(encoded_imgs[i].reshape(4, 8).T)\n",
    "    plt.gray()\n",
    "    ax.get_xaxis().set_visible(False)\n",
    "    ax.get_yaxis().set_visible(False)\n",
    "plt.show()"
   ]
  },
  {
   "cell_type": "markdown",
   "metadata": {},
   "source": [
    "### Denoising autoencoder"
   ]
  },
  {
   "cell_type": "code",
   "execution_count": 39,
   "metadata": {},
   "outputs": [],
   "source": [
    "from keras.datasets import mnist\n",
    "import numpy as np\n",
    "\n",
    "(x_train, _), (x_test, _) = mnist.load_data()\n",
    "\n",
    "x_train = x_train.astype('float32') / 255.\n",
    "x_test = x_test.astype('float32') / 255.\n",
    "x_train = np.reshape(x_train, (len(x_train), 28, 28, 1))  # adapt this if using `channels_first` image data format\n",
    "x_test = np.reshape(x_test, (len(x_test), 28, 28, 1))  # adapt this if using `channels_first` image data format\n",
    "\n",
    "noise_factor = 0.5\n",
    "x_train_noisy = x_train + noise_factor * np.random.normal(loc=0.0, scale=1.0, size=x_train.shape) \n",
    "x_test_noisy = x_test + noise_factor * np.random.normal(loc=0.0, scale=1.0, size=x_test.shape) \n",
    "\n",
    "x_train_noisy = np.clip(x_train_noisy, 0., 1.)\n",
    "x_test_noisy = np.clip(x_test_noisy, 0., 1.)"
   ]
  },
  {
   "cell_type": "code",
   "execution_count": 40,
   "metadata": {},
   "outputs": [
    {
     "data": {
      "image/png": "[encoded data removed]",
      "text/plain": [
       "<Figure size 1440x144 with 10 Axes>"
      ]
     },
     "metadata": {
      "needs_background": "light"
     },
     "output_type": "display_data"
    }
   ],
   "source": [
    "n = 10\n",
    "plt.figure(figsize=(20, 2))\n",
    "for i in range(n):\n",
    "    ax = plt.subplot(1, n, i+1)\n",
    "    plt.imshow(x_test_noisy[i].reshape(28, 28))\n",
    "    plt.gray()\n",
    "    ax.get_xaxis().set_visible(False)\n",
    "    ax.get_yaxis().set_visible(False)\n",
    "plt.show()"
   ]
  },
  {
   "cell_type": "code",
   "execution_count": 41,
   "metadata": {},
   "outputs": [],
   "source": [
    "x_train_noisy = x_train.reshape((len(x_train_noisy), np.prod(x_train_noisy.shape[1:])))\n",
    "x_test_noisy = x_test_noisy.reshape((len(x_test_noisy), np.prod(x_test_noisy.shape[1:])))\n",
    "x_train = x_train.reshape((len(x_train), np.prod(x_train.shape[1:])))\n",
    "x_test = x_test.reshape((len(x_test), np.prod(x_test.shape[1:])))"
   ]
  },
  {
   "cell_type": "code",
   "execution_count": 42,
   "metadata": {},
   "outputs": [],
   "source": [
    "input_img = Input(shape=(784,))\n",
    "encoded = Dense(128, activation='relu')(input_img)\n",
    "encoded = Dense(64, activation='relu')(encoded)\n",
    "encoded = Dense(32, activation='relu')(encoded)\n",
    "\n",
    "decoded = Dense(64, activation='relu')(encoded)\n",
    "decoded = Dense(128, activation='relu')(decoded)\n",
    "decoded = Dense(784, activation='sigmoid')(decoded)"
   ]
  },
  {
   "cell_type": "code",
   "execution_count": 43,
   "metadata": {},
   "outputs": [
    {
     "name": "stdout",
     "output_type": "stream",
     "text": [
      "Train on 60000 samples, validate on 10000 samples\n",
      "Epoch 1/100\n",
      "60000/60000 [==============================] - 6s 98us/step - loss: 0.3374 - val_loss: 0.2614\n",
      "Epoch 2/100\n",
      "60000/60000 [==============================] - 5s 78us/step - loss: 0.2558 - val_loss: 0.2598\n",
      "Epoch 3/100\n",
      "60000/60000 [==============================] - 5s 84us/step - loss: 0.2366 - val_loss: 0.2514\n",
      "Epoch 4/100\n",
      "60000/60000 [==============================] - 5s 80us/step - loss: 0.2182 - val_loss: 0.2383\n",
      "Epoch 5/100\n",
      "60000/60000 [==============================] - 5s 79us/step - loss: 0.2084 - val_loss: 0.2517\n",
      "Epoch 6/100\n",
      "60000/60000 [==============================] - 5s 82us/step - loss: 0.1986 - val_loss: 0.2628\n",
      "Epoch 7/100\n",
      "60000/60000 [==============================] - 5s 78us/step - loss: 0.1856 - val_loss: 0.2336\n",
      "Epoch 8/100\n",
      "60000/60000 [==============================] - 5s 79us/step - loss: 0.1768 - val_loss: 0.2347\n",
      "Epoch 9/100\n",
      "60000/60000 [==============================] - 5s 75us/step - loss: 0.1708 - val_loss: 0.2576\n",
      "Epoch 10/100\n",
      "60000/60000 [==============================] - 5s 85us/step - loss: 0.1658 - val_loss: 0.2464\n",
      "Epoch 11/100\n",
      "60000/60000 [==============================] - 5s 83us/step - loss: 0.1619 - val_loss: 0.2651\n",
      "Epoch 12/100\n",
      "60000/60000 [==============================] - 5s 81us/step - loss: 0.1586 - val_loss: 0.2519\n",
      "Epoch 13/100\n",
      "60000/60000 [==============================] - 5s 78us/step - loss: 0.1554 - val_loss: 0.2626\n",
      "Epoch 14/100\n",
      "60000/60000 [==============================] - 5s 82us/step - loss: 0.1524 - val_loss: 0.2533\n",
      "Epoch 15/100\n",
      "60000/60000 [==============================] - 5s 77us/step - loss: 0.1497 - val_loss: 0.2316\n",
      "Epoch 16/100\n",
      "60000/60000 [==============================] - 5s 75us/step - loss: 0.1471 - val_loss: 0.2405\n",
      "Epoch 17/100\n",
      "60000/60000 [==============================] - 5s 81us/step - loss: 0.1448 - val_loss: 0.2560\n",
      "Epoch 18/100\n",
      "60000/60000 [==============================] - 5s 82us/step - loss: 0.1427 - val_loss: 0.2401\n",
      "Epoch 19/100\n",
      "60000/60000 [==============================] - 5s 86us/step - loss: 0.1407 - val_loss: 0.2381\n",
      "Epoch 20/100\n",
      "60000/60000 [==============================] - 5s 81us/step - loss: 0.1390 - val_loss: 0.2716\n",
      "Epoch 21/100\n",
      "60000/60000 [==============================] - 5s 77us/step - loss: 0.1376 - val_loss: 0.2540\n",
      "Epoch 22/100\n",
      "60000/60000 [==============================] - 5s 82us/step - loss: 0.1363 - val_loss: 0.2643\n",
      "Epoch 23/100\n",
      "60000/60000 [==============================] - 5s 88us/step - loss: 0.1349 - val_loss: 0.2505\n",
      "Epoch 24/100\n",
      "60000/60000 [==============================] - 5s 85us/step - loss: 0.1336 - val_loss: 0.2555\n",
      "Epoch 25/100\n",
      "60000/60000 [==============================] - 5s 82us/step - loss: 0.1326 - val_loss: 0.2618\n",
      "Epoch 26/100\n",
      "60000/60000 [==============================] - 5s 82us/step - loss: 0.1315 - val_loss: 0.2650\n",
      "Epoch 27/100\n",
      "60000/60000 [==============================] - 5s 79us/step - loss: 0.1304 - val_loss: 0.2398\n",
      "Epoch 28/100\n",
      "60000/60000 [==============================] - 5s 81us/step - loss: 0.1292 - val_loss: 0.2393\n",
      "Epoch 29/100\n",
      "60000/60000 [==============================] - 5s 80us/step - loss: 0.1282 - val_loss: 0.2555\n",
      "Epoch 30/100\n",
      "60000/60000 [==============================] - 5s 79us/step - loss: 0.1271 - val_loss: 0.2567\n",
      "Epoch 31/100\n",
      "60000/60000 [==============================] - 5s 81us/step - loss: 0.1260 - val_loss: 0.2695\n",
      "Epoch 32/100\n",
      "60000/60000 [==============================] - 5s 89us/step - loss: 0.1248 - val_loss: 0.2537\n",
      "Epoch 33/100\n",
      "60000/60000 [==============================] - 6s 96us/step - loss: 0.1238 - val_loss: 0.2468\n",
      "Epoch 34/100\n",
      "60000/60000 [==============================] - 6s 97us/step - loss: 0.1226 - val_loss: 0.2695\n",
      "Epoch 35/100\n",
      "60000/60000 [==============================] - 6s 96us/step - loss: 0.1218 - val_loss: 0.2369\n",
      "Epoch 36/100\n",
      "60000/60000 [==============================] - 6s 95us/step - loss: 0.1208 - val_loss: 0.2615\n",
      "Epoch 37/100\n",
      "60000/60000 [==============================] - 6s 102us/step - loss: 0.1201 - val_loss: 0.2638\n",
      "Epoch 38/100\n",
      "60000/60000 [==============================] - 6s 93us/step - loss: 0.1192 - val_loss: 0.2385\n",
      "Epoch 39/100\n",
      "60000/60000 [==============================] - 5s 91us/step - loss: 0.1184 - val_loss: 0.2709\n",
      "Epoch 40/100\n",
      "60000/60000 [==============================] - 6s 96us/step - loss: 0.1176 - val_loss: 0.2385\n",
      "Epoch 41/100\n",
      "60000/60000 [==============================] - 5s 81us/step - loss: 0.1171 - val_loss: 0.2735\n",
      "Epoch 42/100\n",
      "60000/60000 [==============================] - 5s 86us/step - loss: 0.1165 - val_loss: 0.2650\n",
      "Epoch 43/100\n",
      "60000/60000 [==============================] - 5s 84us/step - loss: 0.1160 - val_loss: 0.2683\n",
      "Epoch 44/100\n",
      "60000/60000 [==============================] - 5s 77us/step - loss: 0.1154 - val_loss: 0.2674\n",
      "Epoch 45/100\n",
      "60000/60000 [==============================] - 5s 88us/step - loss: 0.1149 - val_loss: 0.2624\n",
      "Epoch 46/100\n",
      "60000/60000 [==============================] - 5s 83us/step - loss: 0.1144 - val_loss: 0.2382\n",
      "Epoch 47/100\n",
      "60000/60000 [==============================] - 5s 82us/step - loss: 0.1140 - val_loss: 0.2546\n",
      "Epoch 48/100\n",
      "60000/60000 [==============================] - 5s 90us/step - loss: 0.1135 - val_loss: 0.2486\n",
      "Epoch 49/100\n",
      "60000/60000 [==============================] - 5s 90us/step - loss: 0.1131 - val_loss: 0.2528\n",
      "Epoch 50/100\n",
      "60000/60000 [==============================] - 5s 89us/step - loss: 0.1126 - val_loss: 0.2771\n",
      "Epoch 51/100\n",
      "60000/60000 [==============================] - 5s 86us/step - loss: 0.1123 - val_loss: 0.2576\n",
      "Epoch 52/100\n",
      "60000/60000 [==============================] - 6s 99us/step - loss: 0.1119 - val_loss: 0.2643\n",
      "Epoch 53/100\n",
      "60000/60000 [==============================] - 6s 103us/step - loss: 0.1115 - val_loss: 0.2721\n",
      "Epoch 54/100\n",
      "60000/60000 [==============================] - 6s 101us/step - loss: 0.1111 - val_loss: 0.2577\n",
      "Epoch 55/100\n",
      "60000/60000 [==============================] - 6s 99us/step - loss: 0.1108 - val_loss: 0.2510\n",
      "Epoch 56/100\n",
      "60000/60000 [==============================] - 6s 98us/step - loss: 0.1104 - val_loss: 0.2572\n",
      "Epoch 57/100\n",
      "60000/60000 [==============================] - 6s 99us/step - loss: 0.1101 - val_loss: 0.2693\n",
      "Epoch 58/100\n",
      "60000/60000 [==============================] - 6s 102us/step - loss: 0.1098 - val_loss: 0.2518\n",
      "Epoch 59/100\n",
      "60000/60000 [==============================] - 7s 112us/step - loss: 0.1095 - val_loss: 0.2714\n",
      "Epoch 60/100\n",
      "60000/60000 [==============================] - 6s 97us/step - loss: 0.1091 - val_loss: 0.2669\n",
      "Epoch 61/100\n",
      "60000/60000 [==============================] - 5s 91us/step - loss: 0.1088 - val_loss: 0.2643\n",
      "Epoch 62/100\n",
      "60000/60000 [==============================] - 5s 91us/step - loss: 0.1085 - val_loss: 0.2721\n",
      "Epoch 63/100\n",
      "60000/60000 [==============================] - 5s 91us/step - loss: 0.1082 - val_loss: 0.2594\n",
      "Epoch 64/100\n",
      "60000/60000 [==============================] - 6s 95us/step - loss: 0.1079 - val_loss: 0.2612\n",
      "Epoch 65/100\n",
      "60000/60000 [==============================] - 7s 125us/step - loss: 0.1077 - val_loss: 0.2740\n",
      "Epoch 66/100\n",
      "60000/60000 [==============================] - 6s 103us/step - loss: 0.1073 - val_loss: 0.2836\n",
      "Epoch 67/100\n",
      "60000/60000 [==============================] - 6s 102us/step - loss: 0.1071 - val_loss: 0.2852\n",
      "Epoch 68/100\n",
      "60000/60000 [==============================] - 6s 93us/step - loss: 0.1069 - val_loss: 0.2924\n",
      "Epoch 69/100\n",
      "60000/60000 [==============================] - 6s 94us/step - loss: 0.1067 - val_loss: 0.2662\n",
      "Epoch 70/100\n",
      "60000/60000 [==============================] - 6s 96us/step - loss: 0.1064 - val_loss: 0.2567\n",
      "Epoch 71/100\n",
      "60000/60000 [==============================] - 6s 102us/step - loss: 0.1061 - val_loss: 0.2700\n",
      "Epoch 72/100\n",
      "60000/60000 [==============================] - 7s 116us/step - loss: 0.1060 - val_loss: 0.2509\n",
      "Epoch 73/100\n",
      "60000/60000 [==============================] - 6s 103us/step - loss: 0.1056 - val_loss: 0.2553\n",
      "Epoch 74/100\n",
      "60000/60000 [==============================] - 6s 96us/step - loss: 0.1056 - val_loss: 0.2751\n",
      "Epoch 75/100\n",
      "60000/60000 [==============================] - 6s 95us/step - loss: 0.1053 - val_loss: 0.2641\n",
      "Epoch 76/100\n",
      "60000/60000 [==============================] - 6s 95us/step - loss: 0.1051 - val_loss: 0.2600\n",
      "Epoch 77/100\n"
     ]
    },
    {
     "name": "stdout",
     "output_type": "stream",
     "text": [
      "60000/60000 [==============================] - 6s 100us/step - loss: 0.1049 - val_loss: 0.2775\n",
      "Epoch 78/100\n",
      "60000/60000 [==============================] - 6s 97us/step - loss: 0.1047 - val_loss: 0.2543\n",
      "Epoch 79/100\n",
      "60000/60000 [==============================] - 6s 96us/step - loss: 0.1045 - val_loss: 0.2939\n",
      "Epoch 80/100\n",
      "60000/60000 [==============================] - 6s 95us/step - loss: 0.1044 - val_loss: 0.2659\n",
      "Epoch 81/100\n",
      "60000/60000 [==============================] - 6s 95us/step - loss: 0.1041 - val_loss: 0.2886\n",
      "Epoch 82/100\n",
      "60000/60000 [==============================] - 6s 97us/step - loss: 0.1040 - val_loss: 0.2887\n",
      "Epoch 83/100\n",
      "60000/60000 [==============================] - 6s 98us/step - loss: 0.1038 - val_loss: 0.2719\n",
      "Epoch 84/100\n",
      "60000/60000 [==============================] - 6s 94us/step - loss: 0.1036 - val_loss: 0.2723\n",
      "Epoch 85/100\n",
      "60000/60000 [==============================] - 5s 89us/step - loss: 0.1034 - val_loss: 0.2648\n",
      "Epoch 86/100\n",
      "60000/60000 [==============================] - 6s 94us/step - loss: 0.1032 - val_loss: 0.2765\n",
      "Epoch 87/100\n",
      "60000/60000 [==============================] - 6s 94us/step - loss: 0.1030 - val_loss: 0.2827\n",
      "Epoch 88/100\n",
      "60000/60000 [==============================] - 6s 100us/step - loss: 0.1028 - val_loss: 0.2804\n",
      "Epoch 89/100\n",
      "60000/60000 [==============================] - 5s 91us/step - loss: 0.1028 - val_loss: 0.2586\n",
      "Epoch 90/100\n",
      "60000/60000 [==============================] - 6s 97us/step - loss: 0.1025 - val_loss: 0.2670\n",
      "Epoch 91/100\n",
      "60000/60000 [==============================] - 6s 96us/step - loss: 0.1025 - val_loss: 0.2792\n",
      "Epoch 92/100\n",
      "60000/60000 [==============================] - 5s 86us/step - loss: 0.1024 - val_loss: 0.2736\n",
      "Epoch 93/100\n",
      "60000/60000 [==============================] - 5s 86us/step - loss: 0.1020 - val_loss: 0.2823\n",
      "Epoch 94/100\n",
      "60000/60000 [==============================] - 5s 78us/step - loss: 0.1019 - val_loss: 0.2849\n",
      "Epoch 95/100\n",
      "60000/60000 [==============================] - 5s 79us/step - loss: 0.1018 - val_loss: 0.2630\n",
      "Epoch 96/100\n",
      "60000/60000 [==============================] - 5s 88us/step - loss: 0.1017 - val_loss: 0.2902\n",
      "Epoch 97/100\n",
      "60000/60000 [==============================] - 5s 90us/step - loss: 0.1015 - val_loss: 0.2675\n",
      "Epoch 98/100\n",
      "60000/60000 [==============================] - 5s 80us/step - loss: 0.1014 - val_loss: 0.2752\n",
      "Epoch 99/100\n",
      "60000/60000 [==============================] - 5s 82us/step - loss: 0.1012 - val_loss: 0.2690\n",
      "Epoch 100/100\n",
      "60000/60000 [==============================] - 4s 74us/step - loss: 0.1011 - val_loss: 0.2930\n"
     ]
    },
    {
     "data": {
      "text/plain": [
       "<keras.callbacks.History at 0x22b8508a668>"
      ]
     },
     "execution_count": 43,
     "metadata": {},
     "output_type": "execute_result"
    }
   ],
   "source": [
    "denoising_autoencoder = Model(input_img, decoded)\n",
    "denoising_autoencoder.compile(optimizer='adadelta', loss='binary_crossentropy')\n",
    "\n",
    "denoising_autoencoder.fit(x_train_noisy, x_train,\n",
    "                epochs=100,\n",
    "                batch_size=256,\n",
    "                shuffle=True,\n",
    "                validation_data=(x_test_noisy, x_test))"
   ]
  },
  {
   "cell_type": "code",
   "execution_count": 44,
   "metadata": {},
   "outputs": [],
   "source": [
    "denoising_encoder = Model(input_img, encoded)\n",
    "denoising_input = Input(shape=(32,))\n",
    "denoising_decoder_layers = denoising_autoencoder.layers[-3](denoising_input)\n",
    "denoising_decoder_layers = denoising_autoencoder.layers[-2](denoising_decoder_layers)\n",
    "denoising_decoder_layers = denoising_autoencoder.layers[-1](denoising_decoder_layers)\n",
    "denoising_decoder = Model(denoising_input, denoising_decoder_layers)\n",
    "\n",
    "encoded_imgs = denoising_encoder.predict(x_test_noisy)\n",
    "decoded_imgs = denoising_decoder.predict(encoded_imgs)"
   ]
  },
  {
   "cell_type": "code",
   "execution_count": 45,
   "metadata": {},
   "outputs": [
    {
     "data": {
      "image/png": "[encoded data removed]",
      "text/plain": [
       "<Figure size 1440x288 with 20 Axes>"
      ]
     },
     "metadata": {
      "needs_background": "light"
     },
     "output_type": "display_data"
    }
   ],
   "source": [
    "n = 10  # how many digits we will display\n",
    "plt.figure(figsize=(20, 4))\n",
    "for i in range(n):\n",
    "    # display original\n",
    "    ax = plt.subplot(2, n, i + 1)\n",
    "    plt.imshow(x_test_noisy[i].reshape(28, 28))\n",
    "    plt.gray()\n",
    "    ax.get_xaxis().set_visible(False)\n",
    "    ax.get_yaxis().set_visible(False)\n",
    "\n",
    "    # display reconstruction\n",
    "    ax = plt.subplot(2, n, i + 1 + n)\n",
    "    plt.imshow(decoded_imgs[i].reshape(28, 28))\n",
    "    plt.gray()\n",
    "    ax.get_xaxis().set_visible(False)\n",
    "    ax.get_yaxis().set_visible(False)\n",
    "plt.show()"
   ]
  },
  {
   "cell_type": "markdown",
   "metadata": {},
   "source": [
    "### What´s next?"
   ]
  },
  {
   "cell_type": "markdown",
   "metadata": {},
   "source": [
    "* Convolutional autoencoders\n",
    "* Sequence-to-sequence autoencoder\n",
    "* Variational autoencoders (VAE)\n",
    "* GANs"
   ]
  },
  {
   "cell_type": "code",
   "execution_count": null,
   "metadata": {
    "collapsed": true
   },
   "outputs": [],
   "source": []
  }
 ],
 "metadata": {
  "kernelspec": {
   "display_name": "Python [default]",
   "language": "python",
   "name": "python3"
  },
  "language_info": {
   "codemirror_mode": {
    "name": "ipython",
    "version": 3
   },
   "file_extension": ".py",
   "mimetype": "text/x-python",
   "name": "python",
   "nbconvert_exporter": "python",
   "pygments_lexer": "ipython3",
   "version": "3.6.6"
  }
 },
 "nbformat": 4,
 "nbformat_minor": 2
}
